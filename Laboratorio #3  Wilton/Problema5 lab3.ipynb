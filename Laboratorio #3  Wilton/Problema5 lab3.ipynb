{
 "cells": [
  {
   "cell_type": "code",
   "execution_count": null,
   "id": "c7ad208d-fcd4-492a-95ae-96a22a60dc2f",
   "metadata": {},
   "outputs": [],
   "source": [
    "# Escriba una funcion en Python que dada una tupla de elementos (numeros o letras) esta se\n",
    "# convierta a un string. Tomar nota del siguiente ejemplo:\n",
    "# Si la entrada fuera: (10, 20, 40, 5, 70)\n",
    "# La salida deberia ser: 102040570"
   ]
  },
  {
   "cell_type": "code",
   "execution_count": 1,
   "id": "8953ee32-4b67-49df-b608-06d364730724",
   "metadata": {},
   "outputs": [
    {
     "name": "stdout",
     "output_type": "stream",
     "text": [
      "(10, 20, 40, 5, 70)\n",
      "102040570\n"
     ]
    }
   ],
   "source": [
    "tupla = (10, 20, 40, 5, 70)\n",
    "print(tupla)\n",
    "joined_string = ''.join(map(str, list(tupla)))\n",
    "print(joined_string)"
   ]
  },
  {
   "cell_type": "code",
   "execution_count": null,
   "id": "d606da6f-ea0f-47ab-b570-d3043fdb267a",
   "metadata": {},
   "outputs": [],
   "source": []
  }
 ],
 "metadata": {
  "kernelspec": {
   "display_name": "Python 3 (ipykernel)",
   "language": "python",
   "name": "python3"
  },
  "language_info": {
   "codemirror_mode": {
    "name": "ipython",
    "version": 3
   },
   "file_extension": ".py",
   "mimetype": "text/x-python",
   "name": "python",
   "nbconvert_exporter": "python",
   "pygments_lexer": "ipython3",
   "version": "3.9.7"
  }
 },
 "nbformat": 4,
 "nbformat_minor": 5
}
