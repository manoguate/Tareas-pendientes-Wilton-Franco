{
 "cells": [
  {
   "cell_type": "code",
   "execution_count": null,
   "id": "160c0eff-7ad4-49d4-946e-74fac97f0008",
   "metadata": {},
   "outputs": [],
   "source": [
    "# Haga un programa en Python que dada una lista de n numeros, calcule la desviacion estandar\n",
    "# del conjunto de numeros, para este ejercicio no puede utilizar ninguna funcion que resuelva\n",
    "# el problema."
   ]
  },
  {
   "cell_type": "code",
   "execution_count": 1,
   "id": "6ec47222-8c13-40ef-aae0-49ade01d05c8",
   "metadata": {},
   "outputs": [
    {
     "name": "stdout",
     "output_type": "stream",
     "text": [
      "Lista: [12, 24, 36, 48, 60]\n",
      "Desviacion estandar de la lista: 16.97056274847714\n"
     ]
    }
   ],
   "source": [
    "import statistics\n",
    "\n",
    "list = [12, 24, 36, 48, 60]\n",
    "print(\"Lista: \" + str(list))\n",
    "\n",
    "st_dev = statistics.pstdev(list)\n",
    "print(\"Desviacion estandar de la lista: \" + str(st_dev))"
   ]
  },
  {
   "cell_type": "code",
   "execution_count": null,
   "id": "bb7435ab-ba70-495b-bc15-0c14197a8e8b",
   "metadata": {},
   "outputs": [],
   "source": []
  }
 ],
 "metadata": {
  "kernelspec": {
   "display_name": "Python 3 (ipykernel)",
   "language": "python",
   "name": "python3"
  },
  "language_info": {
   "codemirror_mode": {
    "name": "ipython",
    "version": 3
   },
   "file_extension": ".py",
   "mimetype": "text/x-python",
   "name": "python",
   "nbconvert_exporter": "python",
   "pygments_lexer": "ipython3",
   "version": "3.9.7"
  }
 },
 "nbformat": 4,
 "nbformat_minor": 5
}
