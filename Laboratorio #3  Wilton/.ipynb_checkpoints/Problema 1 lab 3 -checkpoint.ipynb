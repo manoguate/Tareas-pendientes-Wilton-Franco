{
 "cells": [
  {
   "cell_type": "code",
   "execution_count": null,
   "id": "94d596be-6b6f-45fd-9014-c68da0e1b2f2",
   "metadata": {},
   "outputs": [],
   "source": [
    "# Cree un procedimiento en Python dado un n ́umero entero en decimal despliegue su represen-\n",
    "# taci ́on en n ́umero binario."
   ]
  },
  {
   "cell_type": "code",
   "execution_count": 1,
   "id": "3e1eab60-4423-42f1-9754-84008394b675",
   "metadata": {},
   "outputs": [
    {
     "name": "stdout",
     "output_type": "stream",
     "text": [
      "1\n",
      "10\n",
      "11\n",
      "100\n",
      "101\n"
     ]
    }
   ],
   "source": [
    "def convertirDecimarioADecimal(n):\n",
    "    # converting decimal to binary\n",
    "    # and removing the prefix(0b)\n",
    "    return bin(n).replace(\"0b\", \"\")\n",
    "\n",
    "print(convertirDecimarioADecimal(1))\n",
    "print(convertirDecimarioADecimal(2))\n",
    "print(convertirDecimarioADecimal(3))\n",
    "print(convertirDecimarioADecimal(4))\n",
    "print(convertirDecimarioADecimal(5))"
   ]
  },
  {
   "cell_type": "code",
   "execution_count": null,
   "id": "1c1b6e34-ac11-4183-be17-d14bd78f8fa2",
   "metadata": {},
   "outputs": [],
   "source": []
  }
 ],
 "metadata": {
  "kernelspec": {
   "display_name": "Python 3 (ipykernel)",
   "language": "python",
   "name": "python3"
  },
  "language_info": {
   "codemirror_mode": {
    "name": "ipython",
    "version": 3
   },
   "file_extension": ".py",
   "mimetype": "text/x-python",
   "name": "python",
   "nbconvert_exporter": "python",
   "pygments_lexer": "ipython3",
   "version": "3.9.7"
  }
 },
 "nbformat": 4,
 "nbformat_minor": 5
}
