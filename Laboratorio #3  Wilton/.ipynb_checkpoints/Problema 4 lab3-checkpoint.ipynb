{
 "cells": [
  {
   "cell_type": "code",
   "execution_count": null,
   "id": "0afaa21b-06b2-4d15-96f2-d874ce2e303a",
   "metadata": {},
   "outputs": [],
   "source": [
    "# Desarrolle en Python una funci ́on que dado un arreglo de corra el algoritmo de ordenamiento\n",
    "# burbuja y devuelva un nuevo arreglo ordenado. Posteriormente cree una funci ́on main para\n",
    "# probar su funci ́on."
   ]
  },
  {
   "cell_type": "code",
   "execution_count": 1,
   "id": "14f5317b-5191-412c-bebe-f7e1d0a94f98",
   "metadata": {},
   "outputs": [
    {
     "name": "stdout",
     "output_type": "stream",
     "text": [
      "Lista sin ordenar:  [64, 34, 25, 12, 22, 11, 90]\n",
      "Lista ordenada:  [11, 12, 22, 25, 34, 64, 90]\n"
     ]
    }
   ],
   "source": [
    "def ordenamientoBurbuja(arr):\n",
    "    n = len(arr)\n",
    " \n",
    "    for i in range(n-1):\n",
    "        for j in range(0, n-i-1):\n",
    "            if arr[j] > arr[j + 1] :\n",
    "                arr[j], arr[j + 1] = arr[j + 1], arr[j]\n",
    " \n",
    "arr = [64, 34, 25, 12, 22, 11, 90]\n",
    "\n",
    "def main():\n",
    "    print(\"Lista sin ordenar: \", arr)\n",
    "    ordenamientoBurbuja(arr)\n",
    "    print(\"Lista ordenada: \", arr)\n",
    "\n",
    "if __name__ == \"__main__\":\n",
    "    main()"
   ]
  },
  {
   "cell_type": "code",
   "execution_count": null,
   "id": "1c9dbbc8-e6d5-4aae-bac9-d45d12f3efd4",
   "metadata": {},
   "outputs": [],
   "source": []
  }
 ],
 "metadata": {
  "kernelspec": {
   "display_name": "Python 3 (ipykernel)",
   "language": "python",
   "name": "python3"
  },
  "language_info": {
   "codemirror_mode": {
    "name": "ipython",
    "version": 3
   },
   "file_extension": ".py",
   "mimetype": "text/x-python",
   "name": "python",
   "nbconvert_exporter": "python",
   "pygments_lexer": "ipython3",
   "version": "3.9.7"
  }
 },
 "nbformat": 4,
 "nbformat_minor": 5
}
