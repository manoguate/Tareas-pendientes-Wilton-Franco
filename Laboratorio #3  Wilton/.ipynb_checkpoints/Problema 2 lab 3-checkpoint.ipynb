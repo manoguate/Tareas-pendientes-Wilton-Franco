{
 "cells": [
  {
   "cell_type": "code",
   "execution_count": null,
   "id": "2c894a0b-4bdc-4f43-a2d9-41b14d3ebbbc",
   "metadata": {},
   "outputs": [],
   "source": [
    "# Desarrolle en Python una funci ́on que devuelva verdadero si un n ́umero entero que recibe\n",
    "# como par ́ametro es primo y devuelva falso en el caso contrario."
   ]
  },
  {
   "cell_type": "code",
   "execution_count": 1,
   "id": "6b160b04-e9f6-4919-b7d4-b1ada1d5053c",
   "metadata": {},
   "outputs": [
    {
     "name": "stdout",
     "output_type": "stream",
     "text": [
      "False 1\n",
      "True 2\n",
      "True 3\n",
      "False 4\n",
      "True 5\n",
      "False 6\n",
      "True 7\n",
      "False 8\n",
      "False 9\n",
      "False 10\n",
      "True 11\n",
      "False 12\n",
      "True 13\n",
      "False 14\n"
     ]
    }
   ],
   "source": [
    "def esPrimo(num):\n",
    "    if num> 1:  \n",
    "        for n in range(2,num):  \n",
    "            if (num % n) == 0:  \n",
    "                return False\n",
    "        return True\n",
    "    else:\n",
    "        return False\n",
    "\n",
    "print(esPrimo(1), 1)\n",
    "print(esPrimo(2), 2)\n",
    "print(esPrimo(3), 3)\n",
    "print(esPrimo(4), 4)\n",
    "print(esPrimo(5), 5)\n",
    "print(esPrimo(6), 6)\n",
    "print(esPrimo(7), 7)\n",
    "print(esPrimo(8), 8)\n",
    "print(esPrimo(9), 9)\n",
    "print(esPrimo(10), 10)\n",
    "print(esPrimo(11), 11)\n",
    "print(esPrimo(12), 12)\n",
    "print(esPrimo(13), 13)\n",
    "print(esPrimo(14), 14)"
   ]
  },
  {
   "cell_type": "code",
   "execution_count": null,
   "id": "33287db1-4416-477f-8bae-e8820e044de6",
   "metadata": {},
   "outputs": [],
   "source": []
  }
 ],
 "metadata": {
  "kernelspec": {
   "display_name": "Python 3 (ipykernel)",
   "language": "python",
   "name": "python3"
  },
  "language_info": {
   "codemirror_mode": {
    "name": "ipython",
    "version": 3
   },
   "file_extension": ".py",
   "mimetype": "text/x-python",
   "name": "python",
   "nbconvert_exporter": "python",
   "pygments_lexer": "ipython3",
   "version": "3.9.7"
  }
 },
 "nbformat": 4,
 "nbformat_minor": 5
}
