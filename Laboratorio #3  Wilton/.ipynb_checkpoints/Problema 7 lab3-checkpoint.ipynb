{
 "cells": [
  {
   "cell_type": "code",
   "execution_count": null,
   "id": "70b13fba-d8c8-4f43-9639-929b2787a636",
   "metadata": {},
   "outputs": [],
   "source": [
    "# Cree una funcion en Python que dada una tupla de tuplas con numeros, produzca una tupla\n",
    "# con el promedio de cada tupla individual. Tomar nota del siguiente ejemplo:\n",
    "# Si la tupla de entrada fuera: ((10, 10, 10, 12), (30, 45, 56, 45), (81, 80, 39, 32))\n",
    "# El resultado deberıa ser: (10.5, 44, 58)"
   ]
  },
  {
   "cell_type": "code",
   "execution_count": 1,
   "id": "d27b56cf-2658-46c6-9730-d591864df17a",
   "metadata": {},
   "outputs": [
    {
     "name": "stdout",
     "output_type": "stream",
     "text": [
      "(10.5, 44.0, 58.0)\n"
     ]
    }
   ],
   "source": [
    "def get_promedio_tupla(tupla):\n",
    "    lista_tupla = list(tupla)\n",
    "    tam_lista = len(lista_tupla)\n",
    "    return sum(lista_tupla) / tam_lista\n",
    "\n",
    "def obtener_resultado(tupla_principal):\n",
    "    lista_promedios = [get_promedio_tupla(t) for t in tupla_principal]\n",
    "    return tuple(lista_promedios)\n",
    "\n",
    "entrada = ((10, 10, 10, 12), (30, 45, 56, 45), (81, 80, 39, 32))\n",
    "\n",
    "print(obtener_resultado(entrada))"
   ]
  },
  {
   "cell_type": "code",
   "execution_count": null,
   "id": "4afdb1a6-a08e-4fc8-ac41-a172a5962742",
   "metadata": {},
   "outputs": [],
   "source": []
  }
 ],
 "metadata": {
  "kernelspec": {
   "display_name": "Python 3 (ipykernel)",
   "language": "python",
   "name": "python3"
  },
  "language_info": {
   "codemirror_mode": {
    "name": "ipython",
    "version": 3
   },
   "file_extension": ".py",
   "mimetype": "text/x-python",
   "name": "python",
   "nbconvert_exporter": "python",
   "pygments_lexer": "ipython3",
   "version": "3.9.7"
  }
 },
 "nbformat": 4,
 "nbformat_minor": 5
}
