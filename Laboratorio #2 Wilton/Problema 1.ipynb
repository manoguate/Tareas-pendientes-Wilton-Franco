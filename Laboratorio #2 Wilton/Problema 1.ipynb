{
 "cells": [
  {
   "cell_type": "markdown",
   "id": "42cbc9f4-128a-427e-83ea-ef63d89e6470",
   "metadata": {
    "tags": []
   },
   "source": [
    "\"\"\"\n",
    "Haga un programa en Python que reciba de parámetro un número de segundos y que\n",
    "despliegue en pantalla, las horas, minutos y segundos que representan.\n",
    "Por ejemplo: Si el número de segundos recibidos fuera: 2743 entonces su programa\n",
    "debería desplegar:\n",
    "Horas: 0\n",
    "Minutos: 45\n",
    "Segundos: 43\n",
    "\n",
    "Si el número de segundos recibidos fuera 5871:\n",
    "\n",
    "Horas: 1\n",
    "Minutos: 37\n",
    "Segundos: 51\n",
    "\n",
    "Para completar su programa escriba otra regla que lea los segundos del teclado y mande a\n",
    "llamar la regla anterior.\n",
    "\"\"\""
   ]
  },
  {
   "cell_type": "code",
   "execution_count": 2,
   "id": "f2bd0e57-c0ed-4c84-a8ed-1d521081e26e",
   "metadata": {},
   "outputs": [
    {
     "name": "stdin",
     "output_type": "stream",
     "text": [
      "Ingresar el numero de segundos:  2743\n"
     ]
    },
    {
     "name": "stdout",
     "output_type": "stream",
     "text": [
      "Horas: 0\n",
      " Minutos: 45\n",
      " Segundos: 43\n",
      "\n"
     ]
    }
   ],
   "source": [
    "segundos = input(\"Ingresar el numero de segundos: \")\n",
    "def convertir(segundos):\n",
    "    segundos = int(segundos)\n",
    "    segundos = segundos % (24 * 3600)\n",
    "    horas = segundos // 3600\n",
    "    segundos %= 3600\n",
    "    minutos = segundos // 60\n",
    "    segundos %= 60\n",
    "      \n",
    "    print(\n",
    "    f'Horas: {horas}\\n',\n",
    "    f'Minutos: {minutos}\\n',\n",
    "    f'Segundos: {segundos}\\n',\n",
    "    )\n",
    "\n",
    "convertir(segundos=segundos)\n"
   ]
  },
  {
   "cell_type": "code",
   "execution_count": 2,
   "id": "3a98d240-3f7a-4edf-bffa-2cf239ce28b0",
   "metadata": {},
   "outputs": [
    {
     "name": "stdin",
     "output_type": "stream",
     "text": [
      "Ingresar el numero de segundos:  5871\n"
     ]
    },
    {
     "name": "stdout",
     "output_type": "stream",
     "text": [
      "Horas: 1\n",
      " Minutos: 37\n",
      " Segundos: 51\n",
      "\n"
     ]
    }
   ],
   "source": [
    "segundos = input(\"Ingresar el numero de segundos: \")\n",
    "def convertir(segundos):\n",
    "    segundos = int(segundos)\n",
    "    segundos = segundos % (24 * 3600)\n",
    "    horas = segundos // 3600\n",
    "    segundos %= 3600\n",
    "    minutos = segundos // 60\n",
    "    segundos %= 60\n",
    "      \n",
    "    print(\n",
    "    f'Horas: {horas}\\n',\n",
    "    f'Minutos: {minutos}\\n',\n",
    "    f'Segundos: {segundos}\\n',\n",
    "    )\n",
    "\n",
    "convertir(segundos=segundos)"
   ]
  },
  {
   "cell_type": "code",
   "execution_count": null,
   "id": "b3a48b03-272d-4add-bdf6-1964e6b5f0c4",
   "metadata": {},
   "outputs": [],
   "source": []
  }
 ],
 "metadata": {
  "kernelspec": {
   "display_name": "Python 3 (ipykernel)",
   "language": "python",
   "name": "python3"
  },
  "language_info": {
   "codemirror_mode": {
    "name": "ipython",
    "version": 3
   },
   "file_extension": ".py",
   "mimetype": "text/x-python",
   "name": "python",
   "nbconvert_exporter": "python",
   "pygments_lexer": "ipython3",
   "version": "3.9.7"
  }
 },
 "nbformat": 4,
 "nbformat_minor": 5
}
