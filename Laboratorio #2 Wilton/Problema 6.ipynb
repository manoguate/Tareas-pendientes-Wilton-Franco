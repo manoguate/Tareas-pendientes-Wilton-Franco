{
 "cells": [
  {
   "cell_type": "code",
   "execution_count": null,
   "id": "08f11c59-e605-4634-ba78-bebbacf22c4d",
   "metadata": {},
   "outputs": [],
   "source": [
    "\"\"\"\n",
    "Haga un programa en Python que dado un número entre 1 y 20. Y un carácter cualquiera\n",
    "despliegue cuatro patrones triangulares.\n",
    "Por ejemplo:\n",
    "• Si el usuario ingresara el número 4 y el símbolo * el programa deberá desplegar lo\n",
    "siguiente:\n",
    "* **** **** *\n",
    "** *** *** **\n",
    "*** ** ** ***\n",
    "**** * * ****\n",
    "\"\"\""
   ]
  },
  {
   "cell_type": "code",
   "execution_count": 1,
   "id": "ded06c3a-04ba-4364-b2be-3e72fe784e4d",
   "metadata": {},
   "outputs": [
    {
     "name": "stdin",
     "output_type": "stream",
     "text": [
      "Ingrese un numero entero positivo:  7\n",
      "Ingrese el simbolo que desea dibujar:  4\n"
     ]
    },
    {
     "name": "stdout",
     "output_type": "stream",
     "text": [
      "4           4444444     4444444           4\n",
      "44           444444     444444           44\n",
      "444           44444     44444           444\n",
      "4444           4444     4444           4444\n",
      "44444           444     444           44444\n",
      "444444           44     44           444444\n",
      "4444444           4     4           4444444\n"
     ]
    }
   ],
   "source": [
    "def split(word):\n",
    "    return list(word)\n",
    "\n",
    "ESPACIADO_GENERAL = 5\n",
    "\n",
    "num = int(input(\"Ingrese un numero entero positivo: \"))\n",
    "\n",
    "if (num <= 0):\n",
    "    print(\"Numero invalido\")\n",
    "else:\n",
    "    simbolo = input(\"Ingrese el simbolo que desea dibujar: \")\n",
    "    for n in range(num):\n",
    "        line = ''\n",
    "        line += ''.join([simbolo for n in range(num)])\n",
    "        line +='.....'\n",
    "        line += ''.join([simbolo for n in range(num)])\n",
    "        line +='.....'\n",
    "        line += ''.join([simbolo for n in range(num)])\n",
    "        line +='.....'\n",
    "        line += ''.join([simbolo for n in range(num)])\n",
    "\n",
    "        espaciado_extremos = num + ESPACIADO_GENERAL\n",
    "        line = list(line)\n",
    "\n",
    "        for m in range(1, espaciado_extremos):\n",
    "            line[n+m] = ' '\n",
    "\n",
    "        espaciado_medio_inicio = (num * 2) + ESPACIADO_GENERAL\n",
    "        espaciado_medio_fin = espaciado_medio_inicio + ESPACIADO_GENERAL\n",
    "        for m in range(espaciado_medio_inicio, espaciado_medio_fin):\n",
    "            line[m] = ' '\n",
    "\n",
    "        tam_linea = len(line)\n",
    "\n",
    "        for m in range(tam_linea - espaciado_extremos, tam_linea - 1):\n",
    "            line[m - n] = ' '\n",
    "        \n",
    "        print(''.join(line))"
   ]
  },
  {
   "cell_type": "code",
   "execution_count": null,
   "id": "42928d1d-0aa6-4686-a694-bb75f38db52a",
   "metadata": {},
   "outputs": [],
   "source": []
  }
 ],
 "metadata": {
  "kernelspec": {
   "display_name": "Python 3 (ipykernel)",
   "language": "python",
   "name": "python3"
  },
  "language_info": {
   "codemirror_mode": {
    "name": "ipython",
    "version": 3
   },
   "file_extension": ".py",
   "mimetype": "text/x-python",
   "name": "python",
   "nbconvert_exporter": "python",
   "pygments_lexer": "ipython3",
   "version": "3.9.7"
  }
 },
 "nbformat": 4,
 "nbformat_minor": 5
}
