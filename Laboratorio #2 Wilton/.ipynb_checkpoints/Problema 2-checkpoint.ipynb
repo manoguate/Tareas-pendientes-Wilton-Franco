{
 "cells": [
  {
   "cell_type": "code",
   "execution_count": null,
   "id": "ac1500fc-691d-4b30-9b3e-2da283f6da3e",
   "metadata": {},
   "outputs": [],
   "source": [
    "\"\"\"\n",
    "Haga un programa en Python que permita el ingreso de las calificaciones de una\n",
    "evaluación del curso de Ciencia de Datos en Python, el programa debe desplegar un\n",
    "mensaje en función de la nota ingresada. Además de eso si la calificación es reprobada\n",
    "ósea menor a 71, se debe calcular la diferencia entre la nota de aprobación y la calificación\n",
    "ingresada.\n",
    "\n",
    "Mensaje Nota\n",
    "INSUFICIENTE Nota < 50\n",
    "REGULAR 50 ≤ nota ≤ 60\n",
    "BIEN 60 < nota ≤ 70\n",
    "MUY BIEN 70 < nota ≤ 90\n",
    "SOBRESALIENTE 90 < nota ≤ 100\n",
    "\"\"\""
   ]
  },
  {
   "cell_type": "code",
   "execution_count": 1,
   "id": "ea055215-7d0a-45b7-b7c0-b5f5a234bd0a",
   "metadata": {},
   "outputs": [
    {
     "name": "stdin",
     "output_type": "stream",
     "text": [
      "Ingrese la nota:  70\n"
     ]
    },
    {
     "name": "stdout",
     "output_type": "stream",
     "text": [
      "BIEN\n",
      "Diferencia:  1\n"
     ]
    }
   ],
   "source": [
    "NOTA_APROBATORIA = 71\n",
    "\n",
    "nota = int(input(\"Ingrese la nota: \"))\n",
    "\n",
    "if nota < 50:\n",
    "    print(\"INSUFICIENTE\")\n",
    "    print(\"Diferencia: \", 71 - nota)\n",
    "elif nota <= 60:\n",
    "    print(\"REGULAR\")\n",
    "    print(\"Diferencia: \", 71 - nota)\n",
    "elif nota <= 70:\n",
    "    print(\"BIEN\")\n",
    "    print(\"Diferencia: \", 71 - nota)\n",
    "elif nota <= 90:\n",
    "    print(\"MUY BIEN\")\n",
    "elif nota <= 100:\n",
    "    print(\"SOBRESALIENTE\")\n",
    "else:\n",
    "    print(\"Nota invalida\")"
   ]
  },
  {
   "cell_type": "code",
   "execution_count": 2,
   "id": "8f1f1206-1c7b-43be-90e8-46ba4aded2e4",
   "metadata": {},
   "outputs": [
    {
     "name": "stdin",
     "output_type": "stream",
     "text": [
      "Ingrese la nota:  91\n"
     ]
    },
    {
     "name": "stdout",
     "output_type": "stream",
     "text": [
      "SOBRESALIENTE\n"
     ]
    }
   ],
   "source": [
    "NOTA_APROBATORIA = 71\n",
    "\n",
    "nota = int(input(\"Ingrese la nota: \"))\n",
    "\n",
    "if nota < 50:\n",
    "    print(\"INSUFICIENTE\")\n",
    "    print(\"Diferencia: \", 71 - nota)\n",
    "elif nota <= 60:\n",
    "    print(\"REGULAR\")\n",
    "    print(\"Diferencia: \", 71 - nota)\n",
    "elif nota <= 70:\n",
    "    print(\"BIEN\")\n",
    "    print(\"Diferencia: \", 71 - nota)\n",
    "elif nota <= 90:\n",
    "    print(\"MUY BIEN\")\n",
    "elif nota <= 100:\n",
    "    print(\"SOBRESALIENTE\")\n",
    "else:\n",
    "    print(\"Nota invalida\")"
   ]
  },
  {
   "cell_type": "code",
   "execution_count": null,
   "id": "159e495e-344f-4d9c-9422-26cd64bc58f4",
   "metadata": {},
   "outputs": [],
   "source": []
  }
 ],
 "metadata": {
  "kernelspec": {
   "display_name": "Python 3 (ipykernel)",
   "language": "python",
   "name": "python3"
  },
  "language_info": {
   "codemirror_mode": {
    "name": "ipython",
    "version": 3
   },
   "file_extension": ".py",
   "mimetype": "text/x-python",
   "name": "python",
   "nbconvert_exporter": "python",
   "pygments_lexer": "ipython3",
   "version": "3.9.7"
  }
 },
 "nbformat": 4,
 "nbformat_minor": 5
}
