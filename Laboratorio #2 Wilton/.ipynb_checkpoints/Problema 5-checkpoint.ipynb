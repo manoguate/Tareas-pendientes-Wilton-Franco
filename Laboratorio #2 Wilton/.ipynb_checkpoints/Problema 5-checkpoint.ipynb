{
 "cells": [
  {
   "cell_type": "code",
   "execution_count": null,
   "id": "23bd1aea-541a-4a92-badd-f725539b59f9",
   "metadata": {},
   "outputs": [],
   "source": [
    "\"\"\"\n",
    "Haga un programa en Python que la fecha de nacimiento de una persona (puede ingresar\n",
    "por separado cada valor, es decir pedir primero día, luego mes y luego año), despliegue\n",
    "la edad de la persona en años, meses y días. Su resultado puede ser aproximado.\n",
    "\"\"\""
   ]
  },
  {
   "cell_type": "code",
   "execution_count": 1,
   "id": "1fbacac3-917f-4cf9-af69-866ec0ab26f4",
   "metadata": {},
   "outputs": [
    {
     "name": "stdin",
     "output_type": "stream",
     "text": [
      "Año:  1984\n",
      "Mes:  09\n",
      "Día:  07\n"
     ]
    },
    {
     "name": "stdout",
     "output_type": "stream",
     "text": [
      "Años:  37\n",
      "Meses:  7\n",
      "Días:  3\n"
     ]
    }
   ],
   "source": [
    "from datetime import datetime, date\n",
    "\n",
    "anio = int(input(\"Año: \"))\n",
    "mes = int(input(\"Mes: \"))\n",
    "dia = int(input(\"Día: \"))\n",
    "\n",
    "hoy = date.today()\n",
    "\n",
    "d1 = date(anio, mes, dia)\n",
    "d2 = date(hoy.year, hoy.month, hoy.day)\n",
    "\n",
    "diferencia_dias = abs(d2-d1).days\n",
    "\n",
    "anios = diferencia_dias // 365\n",
    "meses = (diferencia_dias - anios *365) // 30\n",
    "dias = (diferencia_dias - anios * 365 - meses*30)\n",
    "\n",
    "print(\"Años: \", anios)\n",
    "print(\"Meses: \", meses)\n",
    "print(\"Días: \", dias)"
   ]
  },
  {
   "cell_type": "code",
   "execution_count": null,
   "id": "9c5467b4-d904-4d2a-8c14-97bc7f0b44b9",
   "metadata": {},
   "outputs": [],
   "source": []
  }
 ],
 "metadata": {
  "kernelspec": {
   "display_name": "Python 3 (ipykernel)",
   "language": "python",
   "name": "python3"
  },
  "language_info": {
   "codemirror_mode": {
    "name": "ipython",
    "version": 3
   },
   "file_extension": ".py",
   "mimetype": "text/x-python",
   "name": "python",
   "nbconvert_exporter": "python",
   "pygments_lexer": "ipython3",
   "version": "3.9.7"
  }
 },
 "nbformat": 4,
 "nbformat_minor": 5
}
