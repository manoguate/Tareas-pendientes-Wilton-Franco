{
 "cells": [
  {
   "cell_type": "code",
   "execution_count": null,
   "id": "41c3a4fc-c0b3-4d2e-8f3e-9328f21d0a4e",
   "metadata": {},
   "outputs": [],
   "source": [
    "\"\"\"\n",
    "Haga un programa en Python que lea un número mayor que 0 y despliegue todos sus\n",
    "factores.\n",
    "\n",
    "Ingrese un número: 12\n",
    "Factores: {1,2,3,4,6,12}\n",
    "Utilice un ciclo while para este ejercicio.\n",
    "\"\"\""
   ]
  },
  {
   "cell_type": "code",
   "execution_count": 1,
   "id": "e0990ac4-b49b-43af-b0e6-39a294ec3f98",
   "metadata": {},
   "outputs": [
    {
     "name": "stdin",
     "output_type": "stream",
     "text": [
      "Ingrese un numero mayor a cero:  12\n"
     ]
    },
    {
     "name": "stdout",
     "output_type": "stream",
     "text": [
      "[1, 2, 3, 4, 6, 12]\n"
     ]
    }
   ],
   "source": [
    "num = int(input(\"Ingrese un numero mayor a cero: \"))\n",
    "\n",
    "if num <= 0:\n",
    "    print(\"Error: el numero debe ser mayor a cero\")\n",
    "else:\n",
    "    factores_list = []\n",
    "    cont = 1\n",
    "    while(cont <= num):\n",
    "        if (num % cont == 0):\n",
    "            factores_list.append(cont)\n",
    "        cont += 1    \n",
    "    print(factores_list)"
   ]
  },
  {
   "cell_type": "code",
   "execution_count": null,
   "id": "3360f651-6f79-498b-b96e-eeeeebf65d85",
   "metadata": {},
   "outputs": [],
   "source": []
  }
 ],
 "metadata": {
  "kernelspec": {
   "display_name": "Python 3 (ipykernel)",
   "language": "python",
   "name": "python3"
  },
  "language_info": {
   "codemirror_mode": {
    "name": "ipython",
    "version": 3
   },
   "file_extension": ".py",
   "mimetype": "text/x-python",
   "name": "python",
   "nbconvert_exporter": "python",
   "pygments_lexer": "ipython3",
   "version": "3.9.7"
  }
 },
 "nbformat": 4,
 "nbformat_minor": 5
}
