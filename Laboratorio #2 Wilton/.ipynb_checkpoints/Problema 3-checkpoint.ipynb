{
 "cells": [
  {
   "cell_type": "code",
   "execution_count": null,
   "id": "50ee086a-af2b-4c72-b989-5ac993a9102a",
   "metadata": {},
   "outputs": [],
   "source": [
    "\"\"\"\n",
    "Haga un programa en Python que dados dos números ingresados por el usuario, el\n",
    "primero mayor que el segundo, calcular y mostrar la suma de todos los números\n",
    "comprendidos entre ambos.\n",
    "Es importante que valide los datos según lo especificado anteriormente es decir si el\n",
    "usuario ingresa 1 y 100, el programa debe mostrar un error, Si los números ingresados\n",
    "fuesen 9 y 5, la respuesta sería 9 + 8 + 7 + 6 + 5 = 35. Utilice un ciclo for para este ejercicio.\n",
    "\"\"\""
   ]
  },
  {
   "cell_type": "code",
   "execution_count": 2,
   "id": "fdb5d05e-0ba3-43a7-9b5e-dac1da2a83d5",
   "metadata": {},
   "outputs": [
    {
     "name": "stdin",
     "output_type": "stream",
     "text": [
      "Ingrese el primer numero:  1\n",
      "Ingrese el segundo numero:  100\n"
     ]
    },
    {
     "name": "stdout",
     "output_type": "stream",
     "text": [
      "Error: el primer numero debe ser mayor al segundo\n"
     ]
    }
   ],
   "source": [
    "num1 = int(input(\"Ingrese el primer numero: \"))\n",
    "num2 = int(input(\"Ingrese el segundo numero: \"))\n",
    "\n",
    "if (num2 >= num1):\n",
    "    print(\"Error: el primer numero debe ser mayor al segundo\")\n",
    "else:\n",
    "    suma = 0\n",
    "    for n in range(num2, num1+1):\n",
    "        suma = suma + n\n",
    "    print(suma)"
   ]
  },
  {
   "cell_type": "code",
   "execution_count": 3,
   "id": "dee3b822-ae14-4455-af0e-0b798d1c1dc5",
   "metadata": {},
   "outputs": [
    {
     "name": "stdin",
     "output_type": "stream",
     "text": [
      "Ingrese el primer numero:  9\n",
      "Ingrese el segundo numero:  5\n"
     ]
    },
    {
     "name": "stdout",
     "output_type": "stream",
     "text": [
      "35\n"
     ]
    }
   ],
   "source": [
    "num1 = int(input(\"Ingrese el primer numero: \"))\n",
    "num2 = int(input(\"Ingrese el segundo numero: \"))\n",
    "\n",
    "if (num2 >= num1):\n",
    "    print(\"Error: el primer numero debe ser mayor al segundo\")\n",
    "else:\n",
    "    suma = 0\n",
    "    for n in range(num2, num1+1):\n",
    "        suma = suma + n\n",
    "    print(suma)"
   ]
  },
  {
   "cell_type": "code",
   "execution_count": null,
   "id": "b8d15261-eb40-4e54-bcb6-55c79de1ab1f",
   "metadata": {},
   "outputs": [],
   "source": []
  }
 ],
 "metadata": {
  "kernelspec": {
   "display_name": "Python 3 (ipykernel)",
   "language": "python",
   "name": "python3"
  },
  "language_info": {
   "codemirror_mode": {
    "name": "ipython",
    "version": 3
   },
   "file_extension": ".py",
   "mimetype": "text/x-python",
   "name": "python",
   "nbconvert_exporter": "python",
   "pygments_lexer": "ipython3",
   "version": "3.9.7"
  }
 },
 "nbformat": 4,
 "nbformat_minor": 5
}
